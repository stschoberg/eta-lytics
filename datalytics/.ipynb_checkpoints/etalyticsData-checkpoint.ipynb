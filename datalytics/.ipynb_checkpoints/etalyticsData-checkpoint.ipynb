{
 "cells": [
  {
   "cell_type": "code",
   "execution_count": 3,
   "metadata": {},
   "outputs": [],
   "source": [
    "import pandas as pd\n",
    "import json\n"
   ]
  },
  {
   "cell_type": "code",
   "execution_count": 10,
   "metadata": {},
   "outputs": [
    {
     "name": "stdout",
     "output_type": "stream",
     "text": [
      "{'user_id': '27676046', 'nickname': '🎅🏿', 'image_url': 'https://i.groupme.com/434x434.jpeg.a4ef57346b714c3d922dcdd99e8304cf', 'id': '432140249', 'muted': False, 'autokicked': False, 'roles': ['user'], 'name': 'Dylan Fox'}\n"
     ]
    }
   ],
   "source": [
    "members=[]\n",
    "\n",
    "with open('conversation.json') as json_file:\n",
    "    data = json.load(json_file)\n",
    "    members = data['members']\n",
    "print(members[0])"
   ]
  },
  {
   "cell_type": "code",
   "execution_count": 15,
   "metadata": {},
   "outputs": [
    {
     "name": "stdout",
     "output_type": "stream",
     "text": [
      "('27676046', 'Dylan Fox')\n"
     ]
    }
   ],
   "source": [
    "user_ids = map(lambda user_object: user_object[\"user_id\"], members)\n",
    "user_names = map(lambda user_object: user_object[\"name\"], members)\n",
    "\n",
    "joined = list(zip(user_ids, user_names))\n",
    "\n",
    "print(joined[0])\n",
    "df = pd.DataFrame(joined, columns = ['id', 'name'])"
   ]
  },
  {
   "cell_type": "code",
   "execution_count": 17,
   "metadata": {},
   "outputs": [
    {
     "data": {
      "text/html": [
       "<div>\n",
       "<style scoped>\n",
       "    .dataframe tbody tr th:only-of-type {\n",
       "        vertical-align: middle;\n",
       "    }\n",
       "\n",
       "    .dataframe tbody tr th {\n",
       "        vertical-align: top;\n",
       "    }\n",
       "\n",
       "    .dataframe thead th {\n",
       "        text-align: right;\n",
       "    }\n",
       "</style>\n",
       "<table border=\"1\" class=\"dataframe\">\n",
       "  <thead>\n",
       "    <tr style=\"text-align: right;\">\n",
       "      <th></th>\n",
       "      <th>id</th>\n",
       "      <th>name</th>\n",
       "    </tr>\n",
       "  </thead>\n",
       "  <tbody>\n",
       "    <tr>\n",
       "      <th>0</th>\n",
       "      <td>27676046</td>\n",
       "      <td>Dylan Fox</td>\n",
       "    </tr>\n",
       "    <tr>\n",
       "      <th>1</th>\n",
       "      <td>30017328</td>\n",
       "      <td>Sam Schoberg</td>\n",
       "    </tr>\n",
       "    <tr>\n",
       "      <th>2</th>\n",
       "      <td>24280778</td>\n",
       "      <td>Antonio Karides</td>\n",
       "    </tr>\n",
       "    <tr>\n",
       "      <th>3</th>\n",
       "      <td>36556659</td>\n",
       "      <td>Nolan McNeill</td>\n",
       "    </tr>\n",
       "    <tr>\n",
       "      <th>4</th>\n",
       "      <td>39092107</td>\n",
       "      <td>Jack Singelstad</td>\n",
       "    </tr>\n",
       "    <tr>\n",
       "      <th>5</th>\n",
       "      <td>16803148</td>\n",
       "      <td>Ben Jolley</td>\n",
       "    </tr>\n",
       "    <tr>\n",
       "      <th>6</th>\n",
       "      <td>38590749</td>\n",
       "      <td>Oliver Cowley</td>\n",
       "    </tr>\n",
       "    <tr>\n",
       "      <th>7</th>\n",
       "      <td>28581838</td>\n",
       "      <td>Nick Abbott</td>\n",
       "    </tr>\n",
       "    <tr>\n",
       "      <th>8</th>\n",
       "      <td>41172134</td>\n",
       "      <td>Naveen Paranthaman</td>\n",
       "    </tr>\n",
       "    <tr>\n",
       "      <th>9</th>\n",
       "      <td>29049186</td>\n",
       "      <td>Justin Frankle</td>\n",
       "    </tr>\n",
       "  </tbody>\n",
       "</table>\n",
       "</div>"
      ],
      "text/plain": [
       "         id                name\n",
       "0  27676046           Dylan Fox\n",
       "1  30017328        Sam Schoberg\n",
       "2  24280778     Antonio Karides\n",
       "3  36556659       Nolan McNeill\n",
       "4  39092107     Jack Singelstad\n",
       "5  16803148          Ben Jolley\n",
       "6  38590749       Oliver Cowley\n",
       "7  28581838         Nick Abbott\n",
       "8  41172134  Naveen Paranthaman\n",
       "9  29049186      Justin Frankle"
      ]
     },
     "execution_count": 17,
     "metadata": {},
     "output_type": "execute_result"
    }
   ],
   "source": [
    "num_sent = {}\n",
    "likes_recieved = {}\n",
    "\n",
    "for i in user_ids:\n",
    "    num_sent[i] = 0\n",
    "    likes_recieved[i] = 0\n",
    "\n",
    "with open('message.json') as json_file:\n",
    "    data = json.load(json_file)\n",
    "    \n",
    "    \n",
    "    for mes in data:\n",
    "        num_sent[mes['sender_id']] = num_sent[mes['sender_id']] + 1\n",
    "        likes_recieved[mes['sender_id']] = likesRecived[mes['sender_id']] + len(mes['favorited_by'])\n"
   ]
  },
  {
   "cell_type": "code",
   "execution_count": null,
   "metadata": {},
   "outputs": [],
   "source": []
  }
 ],
 "metadata": {
  "kernelspec": {
   "display_name": "Python 3",
   "language": "python",
   "name": "python3"
  },
  "language_info": {
   "codemirror_mode": {
    "name": "ipython",
    "version": 3
   },
   "file_extension": ".py",
   "mimetype": "text/x-python",
   "name": "python",
   "nbconvert_exporter": "python",
   "pygments_lexer": "ipython3",
   "version": "3.7.3"
  }
 },
 "nbformat": 4,
 "nbformat_minor": 2
}
