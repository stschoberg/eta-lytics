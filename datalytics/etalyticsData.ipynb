{
 "cells": [
  {
   "cell_type": "code",
   "execution_count": 49,
   "metadata": {},
   "outputs": [],
   "source": [
    "import pandas as pd\n",
    "import json\n",
    "import os"
   ]
  },
  {
   "cell_type": "code",
   "execution_count": 3,
   "metadata": {},
   "outputs": [
    {
     "name": "stdout",
     "output_type": "stream",
     "text": [
      "{'user_id': '27676046', 'nickname': '🎅🏿', 'image_url': 'https://i.groupme.com/434x434.jpeg.a4ef57346b714c3d922dcdd99e8304cf', 'id': '432140249', 'muted': False, 'autokicked': False, 'roles': ['user'], 'name': 'Dylan Fox'}\n"
     ]
    }
   ],
   "source": [
    "members=[]\n",
    "\n",
    "with open('conversation.json') as json_file:\n",
    "    data = json.load(json_file)\n",
    "    members = data['members']\n",
    "print(members[0])"
   ]
  },
  {
   "cell_type": "code",
   "execution_count": 4,
   "metadata": {},
   "outputs": [
    {
     "data": {
      "text/html": [
       "<div>\n",
       "<style scoped>\n",
       "    .dataframe tbody tr th:only-of-type {\n",
       "        vertical-align: middle;\n",
       "    }\n",
       "\n",
       "    .dataframe tbody tr th {\n",
       "        vertical-align: top;\n",
       "    }\n",
       "\n",
       "    .dataframe thead th {\n",
       "        text-align: right;\n",
       "    }\n",
       "</style>\n",
       "<table border=\"1\" class=\"dataframe\">\n",
       "  <thead>\n",
       "    <tr style=\"text-align: right;\">\n",
       "      <th></th>\n",
       "      <th>id</th>\n",
       "      <th>name</th>\n",
       "      <th>num_sent</th>\n",
       "      <th>likes_per_message</th>\n",
       "      <th>likes_given</th>\n",
       "      <th>percentage_eta</th>\n",
       "    </tr>\n",
       "  </thead>\n",
       "  <tbody>\n",
       "    <tr>\n",
       "      <th>0</th>\n",
       "      <td>27676046</td>\n",
       "      <td>Dylan Fox</td>\n",
       "      <td>0</td>\n",
       "      <td>0</td>\n",
       "      <td>0</td>\n",
       "      <td>0</td>\n",
       "    </tr>\n",
       "    <tr>\n",
       "      <th>1</th>\n",
       "      <td>30017328</td>\n",
       "      <td>Sam Schoberg</td>\n",
       "      <td>0</td>\n",
       "      <td>0</td>\n",
       "      <td>0</td>\n",
       "      <td>0</td>\n",
       "    </tr>\n",
       "    <tr>\n",
       "      <th>2</th>\n",
       "      <td>24280778</td>\n",
       "      <td>Antonio Karides</td>\n",
       "      <td>0</td>\n",
       "      <td>0</td>\n",
       "      <td>0</td>\n",
       "      <td>0</td>\n",
       "    </tr>\n",
       "    <tr>\n",
       "      <th>3</th>\n",
       "      <td>36556659</td>\n",
       "      <td>Nolan McNeill</td>\n",
       "      <td>0</td>\n",
       "      <td>0</td>\n",
       "      <td>0</td>\n",
       "      <td>0</td>\n",
       "    </tr>\n",
       "    <tr>\n",
       "      <th>4</th>\n",
       "      <td>39092107</td>\n",
       "      <td>Jack Singelstad</td>\n",
       "      <td>0</td>\n",
       "      <td>0</td>\n",
       "      <td>0</td>\n",
       "      <td>0</td>\n",
       "    </tr>\n",
       "  </tbody>\n",
       "</table>\n",
       "</div>"
      ],
      "text/plain": [
       "         id             name  num_sent  likes_per_message  likes_given  \\\n",
       "0  27676046        Dylan Fox         0                  0            0   \n",
       "1  30017328     Sam Schoberg         0                  0            0   \n",
       "2  24280778  Antonio Karides         0                  0            0   \n",
       "3  36556659    Nolan McNeill         0                  0            0   \n",
       "4  39092107  Jack Singelstad         0                  0            0   \n",
       "\n",
       "   percentage_eta  \n",
       "0               0  \n",
       "1               0  \n",
       "2               0  \n",
       "3               0  \n",
       "4               0  "
      ]
     },
     "execution_count": 4,
     "metadata": {},
     "output_type": "execute_result"
    }
   ],
   "source": [
    "user_ids = list(map(lambda user_object: (user_object[\"user_id\"]), members))\n",
    "user_names = list(map(lambda user_object: user_object[\"name\"], members))\n",
    "\n",
    "joined = list(zip(user_ids, user_names))\n",
    "\n",
    "df = pd.DataFrame(joined, columns = ['id', 'name'])\n",
    "df['num_sent'] = 0\n",
    "df['likes_per_message'] = 0\n",
    "df['likes_given'] = 0\n",
    "df['percentage_eta'] = 0\n",
    "df.head()"
   ]
  },
  {
   "cell_type": "code",
   "execution_count": 5,
   "metadata": {},
   "outputs": [],
   "source": [
    "num_sent = {}\n",
    "likes_recieved = {}\n",
    "likes_given = {}\n",
    "\n",
    "for i in df['id']:\n",
    "    num_sent[i] = 0\n",
    "    likes_recieved[i] = 0\n",
    "    likes_given[i] = 0"
   ]
  },
  {
   "cell_type": "code",
   "execution_count": 6,
   "metadata": {},
   "outputs": [],
   "source": [
    "with open('message.json') as json_file:\n",
    "    data = json.load(json_file)\n",
    "    \n",
    "    for mes in data:\n",
    "        if(mes['sender_id'] in user_ids):\n",
    "            num_sent[mes['sender_id']] = num_sent[mes['sender_id']] + 1\n",
    "            likes_recieved[mes['sender_id']] = likes_recieved[mes['user_id']] + len(mes['favorited_by'])\n",
    "            \n",
    "            for liker in mes['favorited_by']:\n",
    "                if liker in user_ids:\n",
    "                    likes_given[liker] = likes_given[liker] + 1"
   ]
  },
  {
   "cell_type": "code",
   "execution_count": 7,
   "metadata": {},
   "outputs": [],
   "source": [
    "for k,v in num_sent.items():\n",
    "    df.loc[df['id'] == k, \"num_sent\"] = v\n",
    "    df.loc[df['id'] == k, \"percentage_eta\"] = v/len(data)*100\n",
    "    \n",
    "for k,v in likes_recieved.items():\n",
    "    if(num_sent[k] is 0): \n",
    "        df.loc[df['id'] == k, \"likes_per_message\"] = -1\n",
    "    else:\n",
    "        df.loc[df['id'] == k, \"likes_per_message\"] = v/num_sent[k] \n",
    "\n",
    "    \n",
    "for k,v in likes_given.items():\n",
    "    df.loc[df['id'] == k, \"likes_given\"] = v\n"
   ]
  },
  {
   "cell_type": "code",
   "execution_count": 8,
   "metadata": {},
   "outputs": [
    {
     "data": {
      "text/html": [
       "<div>\n",
       "<style scoped>\n",
       "    .dataframe tbody tr th:only-of-type {\n",
       "        vertical-align: middle;\n",
       "    }\n",
       "\n",
       "    .dataframe tbody tr th {\n",
       "        vertical-align: top;\n",
       "    }\n",
       "\n",
       "    .dataframe thead th {\n",
       "        text-align: right;\n",
       "    }\n",
       "</style>\n",
       "<table border=\"1\" class=\"dataframe\">\n",
       "  <thead>\n",
       "    <tr style=\"text-align: right;\">\n",
       "      <th></th>\n",
       "      <th>id</th>\n",
       "      <th>name</th>\n",
       "      <th>num_sent</th>\n",
       "      <th>likes_per_message</th>\n",
       "      <th>likes_given</th>\n",
       "      <th>percentage_eta</th>\n",
       "    </tr>\n",
       "  </thead>\n",
       "  <tbody>\n",
       "    <tr>\n",
       "      <th>0</th>\n",
       "      <td>27676046</td>\n",
       "      <td>Dylan Fox</td>\n",
       "      <td>1315</td>\n",
       "      <td>1.743726</td>\n",
       "      <td>655</td>\n",
       "      <td>6.467001</td>\n",
       "    </tr>\n",
       "    <tr>\n",
       "      <th>1</th>\n",
       "      <td>30017328</td>\n",
       "      <td>Sam Schoberg</td>\n",
       "      <td>448</td>\n",
       "      <td>3.812500</td>\n",
       "      <td>710</td>\n",
       "      <td>2.203206</td>\n",
       "    </tr>\n",
       "    <tr>\n",
       "      <th>2</th>\n",
       "      <td>24280778</td>\n",
       "      <td>Antonio Karides</td>\n",
       "      <td>512</td>\n",
       "      <td>3.146484</td>\n",
       "      <td>1550</td>\n",
       "      <td>2.517950</td>\n",
       "    </tr>\n",
       "    <tr>\n",
       "      <th>3</th>\n",
       "      <td>36556659</td>\n",
       "      <td>Nolan McNeill</td>\n",
       "      <td>179</td>\n",
       "      <td>5.229050</td>\n",
       "      <td>216</td>\n",
       "      <td>0.880299</td>\n",
       "    </tr>\n",
       "    <tr>\n",
       "      <th>4</th>\n",
       "      <td>39092107</td>\n",
       "      <td>Jack Singelstad</td>\n",
       "      <td>1190</td>\n",
       "      <td>2.612605</td>\n",
       "      <td>1724</td>\n",
       "      <td>5.852267</td>\n",
       "    </tr>\n",
       "  </tbody>\n",
       "</table>\n",
       "</div>"
      ],
      "text/plain": [
       "         id             name  num_sent  likes_per_message  likes_given  \\\n",
       "0  27676046        Dylan Fox      1315           1.743726          655   \n",
       "1  30017328     Sam Schoberg       448           3.812500          710   \n",
       "2  24280778  Antonio Karides       512           3.146484         1550   \n",
       "3  36556659    Nolan McNeill       179           5.229050          216   \n",
       "4  39092107  Jack Singelstad      1190           2.612605         1724   \n",
       "\n",
       "   percentage_eta  \n",
       "0        6.467001  \n",
       "1        2.203206  \n",
       "2        2.517950  \n",
       "3        0.880299  \n",
       "4        5.852267  "
      ]
     },
     "execution_count": 8,
     "metadata": {},
     "output_type": "execute_result"
    }
   ],
   "source": [
    "df.head()"
   ]
  },
  {
   "cell_type": "code",
   "execution_count": 9,
   "metadata": {},
   "outputs": [
    {
     "data": {
      "text/plain": [
       "1315"
      ]
     },
     "execution_count": 9,
     "metadata": {},
     "output_type": "execute_result"
    }
   ],
   "source": [
    "df.loc[df['id'] == '27676046', \"num_sent\"][0]\n"
   ]
  },
  {
   "cell_type": "code",
   "execution_count": null,
   "metadata": {},
   "outputs": [],
   "source": []
  },
  {
   "cell_type": "code",
   "execution_count": 12,
   "metadata": {},
   "outputs": [],
   "source": [
    "df.to_json('data.json', orient='records')"
   ]
  },
  {
   "cell_type": "code",
   "execution_count": 56,
   "metadata": {},
   "outputs": [
    {
     "name": "stdout",
     "output_type": "stream",
     "text": [
      "0\n",
      "0\n",
      "0\n",
      "0\n"
     ]
    }
   ],
   "source": [
    "out = {\n",
    "    \"eta-lytics\":[]\n",
    "}\n",
    "\n",
    "lst = list(df.iterrows())\n",
    "len(lst)\n",
    "\n",
    "for row in df.iterrows():\n",
    "    if(len(out['eta-lytics']) is 25):\n",
    "        \n",
    "        with open('eta-lytics.json', 'w') as fp:\n",
    "            json.dump(out, fp)\n",
    "        \n",
    "        resp = os.system(\"aws dynamodb batch-write-item --request-items file://eta-lytics.json\")\n",
    "        print(resp)\n",
    "        out['eta-lytics'] = []\n",
    "        \n",
    "    out['eta-lytics'].append(put_request(row))\n",
    "\n",
    "\n",
    "with open('eta-lytics.json', 'w') as fp:\n",
    "    json.dump(out, fp)\n",
    "\n",
    "resp = os.system(\"aws dynamodb batch-write-item --request-items file://eta-lytics.json\")\n",
    "print(resp)"
   ]
  },
  {
   "cell_type": "code",
   "execution_count": 55,
   "metadata": {},
   "outputs": [],
   "source": [
    "def put_request(row):\n",
    "    return (\n",
    "    {\n",
    "        \"PutRequest\": {\n",
    "            \"Item\": {\n",
    "                \"name\": {\"S\": row[1]['name']},\n",
    "                'id': {\"S\": row[1].id},\n",
    "                'messages': {\"S\": str(row[1].num_sent)},\n",
    "                'likes_per_message': {\"S\": str(round(row[1].likes_per_message,2))},\n",
    "                \"likes_given\": {\"S\": str(row[1].likes_given)} ,\n",
    "                'percentage_eta': {\"S\": str(round(row[1].percentage_eta,2))}\n",
    "                \n",
    "            }\n",
    "        }\n",
    "    }\n",
    "    )"
   ]
  },
  {
   "cell_type": "code",
   "execution_count": 48,
   "metadata": {},
   "outputs": [],
   "source": []
  },
  {
   "cell_type": "code",
   "execution_count": null,
   "metadata": {},
   "outputs": [],
   "source": []
  },
  {
   "cell_type": "code",
   "execution_count": null,
   "metadata": {},
   "outputs": [],
   "source": []
  }
 ],
 "metadata": {
  "kernelspec": {
   "display_name": "Python 3",
   "language": "python",
   "name": "python3"
  },
  "language_info": {
   "codemirror_mode": {
    "name": "ipython",
    "version": 3
   },
   "file_extension": ".py",
   "mimetype": "text/x-python",
   "name": "python",
   "nbconvert_exporter": "python",
   "pygments_lexer": "ipython3",
   "version": "3.7.3"
  }
 },
 "nbformat": 4,
 "nbformat_minor": 2
}
